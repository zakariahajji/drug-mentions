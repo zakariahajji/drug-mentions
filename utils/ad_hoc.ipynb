{
 "cells": [
  {
   "cell_type": "markdown",
   "metadata": {},
   "source": [
    "'''\n",
    "\n",
    "    Vous devez aussi mettre en place (hors de la data pipeline, vous pouvez considérer que c’est une partie\n",
    "    annexe) une feature permettant de répondre à la problématique suivante :\n",
    "    • Extraire depuis le json produit par la data pipeline le nom du journal qui mentionne le plus de\n",
    "    médicaments différents ?\n",
    "\n",
    "'''"
   ]
  },
  {
   "cell_type": "markdown",
   "metadata": {},
   "source": [
    "## Ad-hoc Analysis Notebook"
   ]
  },
  {
   "cell_type": "code",
   "execution_count": 12,
   "metadata": {},
   "outputs": [
    {
     "name": "stdout",
     "output_type": "stream",
     "text": [
      "Using JSON file: /Users/zakaria/Development/solution/drug-mentions/src/data/output/drug_mentions.json\n",
      "Le journal qui mentionne le plus de médicaments différents est Psychopharmacology avec 2 médicaments différents : ['TETRACYCLINE', 'ETHANOL']\n"
     ]
    }
   ],
   "source": [
    "from pathlib import Path\n",
    "import json\n",
    "import pandas as pd\n",
    "\n",
    "json_path = Path(\"/Users/zakaria/Development/solution/drug-mentions/src/data/output/drug_mentions.json\")\n",
    "print(\"Using JSON file:\", json_path)\n",
    "\n",
    "if not json_path.exists():\n",
    "    raise FileNotFoundError(f\"File not found: {json_path.resolve()}\")\n",
    "\n",
    "# Load the JSON data into a Python dictionary\n",
    "with open(json_path, \"r\", encoding=\"utf-8\") as f:\n",
    "    data = json.load(f)\n",
    "\n",
    "# empty dict to hold the mapping\n",
    "journal_to_drugs = {}\n",
    "\n",
    "\n",
    "for drug, details in data.items():\n",
    "    # Retrieve the \"mentions\" dictionary; default to an empty dict if not present\n",
    "    mentions = details.get(\"mentions\", {})\n",
    "    \n",
    "    # same with journals ; default to an empty list if not present\n",
    "    journals = mentions.get(\"journals\", [])\n",
    "    \n",
    "    for journal in journals:\n",
    "        # extract the journal's name and remove any leading/trailing whitespace\n",
    "        name = journal.get(\"name\", \"\").strip()\n",
    "        \n",
    "        if name:\n",
    "            # If this journal isn't in our dictionary yet, add it with an empty set\n",
    "            if name not in journal_to_drugs:\n",
    "                journal_to_drugs[name] = set()\n",
    "            # add the current drug to the set for this journal\n",
    "            journal_to_drugs[name].add(drug)\n",
    "\n",
    "\n",
    "# Convert the mapping to a DataFrame\n",
    "rows = [\n",
    "    {\"journal\": journal, \"distinct_drugs\": len(drugs), \"drugs\": list(drugs)}\n",
    "    for journal, drugs in journal_to_drugs.items()\n",
    "]\n",
    "df = pd.DataFrame(rows)\n",
    "\n",
    "if df.empty:\n",
    "    print(\"No results found.\")\n",
    "else:\n",
    "    #Sort the DataFrame by \"distinct_drugs\" in descending order.\n",
    "    sorted_df = df.sort_values(\"distinct_drugs\", ascending=False)\n",
    "\n",
    "    # Get the first row from the sorted DataFrame (the journal with the most drugs).\n",
    "    top_row = sorted_df.iloc[0]\n",
    "\n",
    "    # Extract the journal name and count from that row.\n",
    "    top_journal = top_row[\"journal\"]\n",
    "    drug_count = top_row[\"distinct_drugs\"]\n",
    "\n",
    "    # Print the result.\n",
    "    print(\n",
    "        f\"Le journal qui mentionne le plus de médicaments différents est {top_journal} \"\n",
    "        f\"avec {drug_count} médicaments différents : {top_row['drugs']}\"\n",
    "    )\n",
    "\n"
   ]
  }
 ],
 "metadata": {
  "kernelspec": {
   "display_name": ".venv",
   "language": "python",
   "name": "python3"
  },
  "language_info": {
   "codemirror_mode": {
    "name": "ipython",
    "version": 3
   },
   "file_extension": ".py",
   "mimetype": "text/x-python",
   "name": "python",
   "nbconvert_exporter": "python",
   "pygments_lexer": "ipython3",
   "version": "3.11.5"
  }
 },
 "nbformat": 4,
 "nbformat_minor": 2
}
